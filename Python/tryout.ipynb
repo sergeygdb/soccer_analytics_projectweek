{
 "cells": [
  {
   "cell_type": "markdown",
   "metadata": {},
   "source": [
    "## Tryout functions"
   ]
  },
  {
   "cell_type": "code",
   "execution_count": null,
   "metadata": {},
   "outputs": [],
   "source": [
    "import os\n",
    "import importlib\n",
    "import helperfunctions\n",
    "from VisualisationTools import soccer_animation\n",
    "\n",
    "# Clear cache and reload the helperfunctions module\n",
    "importlib.reload(helperfunctions)\n",
    "importlib.reload(soccer_animation)\n",
    "\n",
    "# Import the required functions after reloading\n",
    "from helperfunctions import get_database_connection, fetch_team_matches, calculate_ball_possession\n"
   ]
  },
  {
   "cell_type": "code",
   "execution_count": null,
   "metadata": {},
   "outputs": [],
   "source": [
    "conn = get_database_connection()\n",
    "team_name = \"anderlecht\"\n",
    "games = fetch_team_matches(team_name, conn)\n",
    "\n",
    "# Display the team_id of the given team_name\n",
    "team_id = games.loc[games['home_team_name'].str.lower() == team_name.lower(), 'home_team_id'].iloc[0]\n",
    "print(f\"Team ID for {team_name}: {team_id}\")\n",
    "conn.close()\n"
   ]
  },
  {
   "cell_type": "code",
   "execution_count": null,
   "metadata": {},
   "outputs": [],
   "source": [
    "print(games)"
   ]
  },
  {
   "cell_type": "code",
   "execution_count": null,
   "metadata": {},
   "outputs": [],
   "source": [
    "# Re-establish the database connection\n",
    "conn = get_database_connection()\n",
    "\n",
    "# Fetch match events for the first game in the games dataframe\n",
    "match_id = games.iloc[0]['match_id']\n",
    "match_events = helperfunctions.fetch_match_events(match_id, conn)\n",
    "\n",
    "# Close the connection after fetching the data\n",
    "conn.close()\n",
    "\n",
    "print(match_events.head(10))\n",
    "print(match_events.describe())\n",
    "print(match_events.info())"
   ]
  },
  {
   "cell_type": "code",
   "execution_count": null,
   "metadata": {},
   "outputs": [],
   "source": [
    "import pandas as pd\n",
    "\n",
    "# Re-establish the database connection\n",
    "conn = get_database_connection()\n",
    "\n",
    "# Fetch match events for the first game in the games dataframe\n",
    "match_id = games.iloc[0]['match_id']\n",
    "changes = calculate_ball_possession(match_id, conn,team_id=team_id)\n",
    "\n",
    "# Close the connection after fetching the data\n",
    "conn.close()\n",
    "\n",
    "print(changes.head(10))\n"
   ]
  },
  {
   "cell_type": "code",
   "execution_count": null,
   "metadata": {},
   "outputs": [],
   "source": [
    "import seaborn as sns\n",
    "\n",
    "import matplotlib.pyplot as plt\n",
    "\n",
    "# Filter the data to include only rows where time_difference_seconds is between -500 and 500\n",
    "changes['time_difference_seconds'] = changes['time_difference'].dt.total_seconds()\n",
    "\n",
    "# Print negative time_difference_seconds values\n",
    "negative_time_diff = changes[changes['time_difference_seconds'] < 0]\n",
    "print(\"Negative time_difference_seconds values:\")\n",
    "print(negative_time_diff[['time_difference_seconds']])\n",
    "\n",
    "# Set negative time_difference_seconds to 0\n",
    "changes.loc[changes['time_difference_seconds'] < 0, 'time_difference_seconds'] = 0\n",
    "\n",
    "# Create a histogram with facets for ball_possession and a bin size of 5 seconds\n",
    "sns.histplot(data=changes, x='time_difference_seconds', hue='ball_possession', multiple='dodge', bins=range(-500, 505, 5))\n",
    "\n",
    "# Add labels and title\n",
    "plt.xlabel('Time Difference (seconds)')\n",
    "plt.ylabel('Frequency')\n",
    "plt.title('Histogram of Ball Possession Changes for Anderlecht')\n",
    "plt.legend(title='Ball Possession', labels=['Opponent', 'Anderlecht'])\n",
    "\n",
    "# Show the plot\n",
    "plt.show()\n"
   ]
  },
  {
   "cell_type": "code",
   "execution_count": null,
   "metadata": {},
   "outputs": [],
   "source": [
    "# Filter the data to include only rows where time_difference_seconds is between -60 and 60\n",
    "filtered_changes_60 = changes[(changes['time_difference_seconds'] >= -60) & (changes['time_difference_seconds'] <= 60)]\n",
    "\n",
    "# Create a histogram with facets for ball_possession and a bin size of 5 seconds\n",
    "sns.histplot(data=filtered_changes_60, x='time_difference_seconds', hue='ball_possession', multiple='dodge', bins=range(0, 65, 5))\n",
    "\n",
    "# Add labels and title\n",
    "plt.xlabel('Time Difference (seconds)')\n",
    "plt.ylabel('Frequency')\n",
    "plt.title('Histogram of Ball Possession Changes for Anderlecht (Zoomed In)')\n",
    "plt.legend(title='Ball Possession', labels=['Opponent', 'Anderlecht'])\n",
    "\n",
    "# Show the plot\n",
    "plt.show()"
   ]
  },
  {
   "cell_type": "markdown",
   "metadata": {},
   "source": [
    "# Animation between two timestamps\n",
    "\n",
    "! Create a  .env file with the following content:\n",
    " ```env\n",
    "PG_HOST=fuji.ucll.be\n",
    "PG_PORT=52425\n",
    "PG_USER=your_user\n",
    "PG_PASSWORD=your_password   \n",
    "\n",
    "```"
   ]
  },
  {
   "cell_type": "code",
   "execution_count": null,
   "metadata": {},
   "outputs": [],
   "source": [
    "import dotenv\n",
    "\n",
    "dotenv.load_dotenv()\n",
    "import os\n",
    "\n",
    "\n",
    "# Load environment variables from .env file\n",
    "PG_HOST = os.getenv(\"PG_HOST\")\n",
    "PG_USER = os.getenv(\"PG_USER\")\n",
    "PG_PASSWORD = os.getenv(\"PG_PASSWORD\")\n",
    "PG_PORT = os.getenv(\"PG_PORT\")\n",
    "\n",
    "db_config = {\n",
    "    \"host\": PG_HOST,\n",
    "    \"database\": \"international_week\",\n",
    "    \"user\": PG_USER,\n",
    "    \"password\": PG_PASSWORD,\n",
    "    \"port\": PG_PORT,\n",
    "    \"sslmode\": \"require\"\n",
    "}\n",
    "\n",
    "soccer_anim = soccer_animation.SoccerAnimation(db_config)\n",
    "\n",
    "animation_file = soccer_anim.animate_from_database(\n",
    "    game_id='5uts2s7fl98clqz8uymaazehg',\n",
    "    start_time='00:13:35',\n",
    "    end_time='00:14:05',\n",
    "    period_id=1,\n",
    "    output_file='match_animation.mp4',\n",
    "    fps=25,\n",
    "    interpolate=True\n",
    ")\n"
   ]
  }
 ],
 "metadata": {
  "kernelspec": {
   "display_name": ".venv",
   "language": "python",
   "name": "python3"
  },
  "language_info": {
   "codemirror_mode": {
    "name": "ipython",
    "version": 3
   },
   "file_extension": ".py",
   "mimetype": "text/x-python",
   "name": "python",
   "nbconvert_exporter": "python",
   "pygments_lexer": "ipython3",
   "version": "3.12.9"
  }
 },
 "nbformat": 4,
 "nbformat_minor": 2
}
