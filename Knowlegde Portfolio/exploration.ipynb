{
 "cells": [
  {
   "cell_type": "markdown",
   "metadata": {},
   "source": [
    "The code below fetches all the matches where either Union, Club Brugge or Cercle Brugge are present."
   ]
  },
  {
   "cell_type": "code",
   "execution_count": 3,
   "metadata": {},
   "outputs": [
    {
     "name": "stderr",
     "output_type": "stream",
     "text": [
      "C:\\Users\\Neo\\AppData\\Local\\Temp\\ipykernel_11796\\2836686634.py:35: UserWarning: pandas only supports SQLAlchemy connectable (engine/connection) or database string URI or sqlite3 DBAPI2 connection. Other DBAPI2 objects are not tested. Please consider using SQLAlchemy.\n",
      "  matches = pd.read_sql_query(query, conn)\n"
     ]
    },
    {
     "data": {
      "application/vnd.microsoft.datawrangler.viewer.v0+json": {
       "columns": [
        {
         "name": "index",
         "rawType": "int64",
         "type": "integer"
        },
        {
         "name": "match_id",
         "rawType": "object",
         "type": "string"
        },
        {
         "name": "match_date",
         "rawType": "datetime64[ns]",
         "type": "datetime"
        },
        {
         "name": "home_team_id",
         "rawType": "object",
         "type": "string"
        },
        {
         "name": "away_team_id",
         "rawType": "object",
         "type": "string"
        },
        {
         "name": "home_score",
         "rawType": "int64",
         "type": "integer"
        },
        {
         "name": "away_score",
         "rawType": "int64",
         "type": "integer"
        }
       ],
       "conversionMethod": "pd.DataFrame",
       "ref": "b2856cc1-6466-4400-ae8c-668b50ae5f6b",
       "rows": [
        [
         "0",
         "5oc8drrbruovbuiriyhdyiyok",
         "2024-07-26 00:00:00",
         "1oyb7oym5nwzny8vxf03szd2h",
         "b7jmo07lqav0wfe2mtlzyspak",
         "1",
         "1"
        ],
        [
         "1",
         "5ro450tmjg6o1r4cphzzyg74k",
         "2024-07-28 00:00:00",
         "2nhn3ikl1ciq34w3hcp883d6p",
         "3ix9om1svhd6obl0mbk1otgop",
         "3",
         "0"
        ],
        [
         "2",
         "5ow2wa823rjft38oh48b4ror8",
         "2024-07-27 00:00:00",
         "4dtif7outbuivua8umbwegoo5",
         "ecj1gmc7pqcjo4sc9hvghj5u3",
         "0",
         "0"
        ],
        [
         "3",
         "5u35bb21cuumrm2th8czyecr8",
         "2024-08-04 00:00:00",
         "3ix9om1svhd6obl0mbk1otgop",
         "1uk609mhtsfhokhaewjapb26",
         "1",
         "2"
        ],
        [
         "4",
         "5ugfsw7je1y0lay7xdqe3pces",
         "2024-08-04 00:00:00",
         "5z1b7fuvpqe6vnigvopomvecu",
         "1oyb7oym5nwzny8vxf03szd2h",
         "1",
         "0"
        ]
       ],
       "shape": {
        "columns": 6,
        "rows": 5
       }
      },
      "text/html": [
       "<div>\n",
       "<style scoped>\n",
       "    .dataframe tbody tr th:only-of-type {\n",
       "        vertical-align: middle;\n",
       "    }\n",
       "\n",
       "    .dataframe tbody tr th {\n",
       "        vertical-align: top;\n",
       "    }\n",
       "\n",
       "    .dataframe thead th {\n",
       "        text-align: right;\n",
       "    }\n",
       "</style>\n",
       "<table border=\"1\" class=\"dataframe\">\n",
       "  <thead>\n",
       "    <tr style=\"text-align: right;\">\n",
       "      <th></th>\n",
       "      <th>match_id</th>\n",
       "      <th>match_date</th>\n",
       "      <th>home_team_id</th>\n",
       "      <th>away_team_id</th>\n",
       "      <th>home_score</th>\n",
       "      <th>away_score</th>\n",
       "    </tr>\n",
       "  </thead>\n",
       "  <tbody>\n",
       "    <tr>\n",
       "      <th>0</th>\n",
       "      <td>5oc8drrbruovbuiriyhdyiyok</td>\n",
       "      <td>2024-07-26</td>\n",
       "      <td>1oyb7oym5nwzny8vxf03szd2h</td>\n",
       "      <td>b7jmo07lqav0wfe2mtlzyspak</td>\n",
       "      <td>1</td>\n",
       "      <td>1</td>\n",
       "    </tr>\n",
       "    <tr>\n",
       "      <th>1</th>\n",
       "      <td>5ro450tmjg6o1r4cphzzyg74k</td>\n",
       "      <td>2024-07-28</td>\n",
       "      <td>2nhn3ikl1ciq34w3hcp883d6p</td>\n",
       "      <td>3ix9om1svhd6obl0mbk1otgop</td>\n",
       "      <td>3</td>\n",
       "      <td>0</td>\n",
       "    </tr>\n",
       "    <tr>\n",
       "      <th>2</th>\n",
       "      <td>5ow2wa823rjft38oh48b4ror8</td>\n",
       "      <td>2024-07-27</td>\n",
       "      <td>4dtif7outbuivua8umbwegoo5</td>\n",
       "      <td>ecj1gmc7pqcjo4sc9hvghj5u3</td>\n",
       "      <td>0</td>\n",
       "      <td>0</td>\n",
       "    </tr>\n",
       "    <tr>\n",
       "      <th>3</th>\n",
       "      <td>5u35bb21cuumrm2th8czyecr8</td>\n",
       "      <td>2024-08-04</td>\n",
       "      <td>3ix9om1svhd6obl0mbk1otgop</td>\n",
       "      <td>1uk609mhtsfhokhaewjapb26</td>\n",
       "      <td>1</td>\n",
       "      <td>2</td>\n",
       "    </tr>\n",
       "    <tr>\n",
       "      <th>4</th>\n",
       "      <td>5ugfsw7je1y0lay7xdqe3pces</td>\n",
       "      <td>2024-08-04</td>\n",
       "      <td>5z1b7fuvpqe6vnigvopomvecu</td>\n",
       "      <td>1oyb7oym5nwzny8vxf03szd2h</td>\n",
       "      <td>1</td>\n",
       "      <td>0</td>\n",
       "    </tr>\n",
       "  </tbody>\n",
       "</table>\n",
       "</div>"
      ],
      "text/plain": [
       "                    match_id match_date               home_team_id  \\\n",
       "0  5oc8drrbruovbuiriyhdyiyok 2024-07-26  1oyb7oym5nwzny8vxf03szd2h   \n",
       "1  5ro450tmjg6o1r4cphzzyg74k 2024-07-28  2nhn3ikl1ciq34w3hcp883d6p   \n",
       "2  5ow2wa823rjft38oh48b4ror8 2024-07-27  4dtif7outbuivua8umbwegoo5   \n",
       "3  5u35bb21cuumrm2th8czyecr8 2024-08-04  3ix9om1svhd6obl0mbk1otgop   \n",
       "4  5ugfsw7je1y0lay7xdqe3pces 2024-08-04  5z1b7fuvpqe6vnigvopomvecu   \n",
       "\n",
       "                away_team_id  home_score  away_score  \n",
       "0  b7jmo07lqav0wfe2mtlzyspak           1           1  \n",
       "1  3ix9om1svhd6obl0mbk1otgop           3           0  \n",
       "2  ecj1gmc7pqcjo4sc9hvghj5u3           0           0  \n",
       "3   1uk609mhtsfhokhaewjapb26           1           2  \n",
       "4  1oyb7oym5nwzny8vxf03szd2h           1           0  "
      ]
     },
     "execution_count": 3,
     "metadata": {},
     "output_type": "execute_result"
    }
   ],
   "source": [
    "import pandas as pd\n",
    "import psycopg2\n",
    "import dotenv\n",
    "import os\n",
    "\n",
    "dotenv.load_dotenv()\n",
    "\n",
    "PG_PASSWORD = os.getenv(\"PG_PASSWORD\")\n",
    "PG_USER = os.getenv(\"PG_USER\")\n",
    "PG_HOST = os.getenv(\"PG_HOST\")\n",
    "PG_PORT = os.getenv(\"PG_PORT\")\n",
    "PG_DATABASE = os.getenv(\"PG_DB\")\n",
    "\n",
    "# Database connection parameters\n",
    "import psycopg2\n",
    "import os\n",
    "\n",
    "conn = psycopg2.connect(\n",
    "    host=PG_HOST,\n",
    "    database=PG_DATABASE,\n",
    "    user=PG_USER,\n",
    "    password=PG_PASSWORD,\n",
    "    port=PG_PORT,\n",
    "    sslmode=\"require\",\n",
    ")\n",
    "\n",
    "# Query to fetch match data\n",
    "query = \"\"\"\n",
    "SELECT *\n",
    "FROM matches\n",
    "WHERE home_team_id IN ('1oyb7oym5nwzny8vxf03szd2h', '3ix9om1svhd6obl0mbk1otgop', 'ecj1gmc7pqcjo4sc9hvghj5u3')\n",
    "   OR away_team_id IN ('1oyb7oym5nwzny8vxf03szd2h', '3ix9om1svhd6obl0mbk1otgop', 'ecj1gmc7pqcjo4sc9hvghj5u3')\n",
    "\n",
    "\"\"\"\n",
    "matches = pd.read_sql_query(query, conn)\n",
    "matches.head()"
   ]
  }
 ],
 "metadata": {
  "language_info": {
   "name": "python"
  }
 },
 "nbformat": 4,
 "nbformat_minor": 2
}
